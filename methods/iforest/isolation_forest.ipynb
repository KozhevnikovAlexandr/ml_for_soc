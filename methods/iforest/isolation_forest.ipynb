{
 "cells": [
  {
   "cell_type": "code",
   "execution_count": null,
   "id": "romantic-specialist",
   "metadata": {},
   "outputs": [],
   "source": [
    "from sklearn.ensemble import IsolationForest\n",
    "from sklearn.metrics import classification_report\n",
    "import pickle"
   ]
  },
  {
   "cell_type": "code",
   "execution_count": null,
   "id": "protecting-bahamas",
   "metadata": {},
   "outputs": [],
   "source": [
    "data = pd.read_csv('data.csv').drop(['Unnamed: 0'], axis=1)"
   ]
  },
  {
   "cell_type": "code",
   "execution_count": null,
   "id": "cognitive-cholesterol",
   "metadata": {},
   "outputs": [],
   "source": [
    "with open('labels_for_windowed_swat.pickle', 'rb') as f:\n",
    "    y = pickle.load(f)[:449912]"
   ]
  },
  {
   "cell_type": "code",
   "execution_count": null,
   "id": "cardiac-acceptance",
   "metadata": {},
   "outputs": [],
   "source": [
    "forest = IsolationForest(n_estimators=100)"
   ]
  },
  {
   "cell_type": "code",
   "execution_count": 28,
   "id": "concrete-fault",
   "metadata": {},
   "outputs": [
    {
     "name": "stdout",
     "output_type": "stream",
     "text": [
      "CPU times: user 39.1 s, sys: 7.77 s, total: 46.9 s\n",
      "Wall time: 46.9 s\n"
     ]
    }
   ],
   "source": [
    "%%time\n",
    "# изолирующий лес - метод классификации и ему не нужно обучатся\n",
    "forest_predict = prepare_predict(forest.fit_predict(raw_data))"
   ]
  },
  {
   "cell_type": "code",
   "execution_count": 60,
   "id": "excess-charlotte",
   "metadata": {},
   "outputs": [
    {
     "name": "stdout",
     "output_type": "stream",
     "text": [
      "              precision    recall  f1-score   support\n",
      "\n",
      "           0       0.97      0.93      0.95    195187\n",
      "           1       0.73      0.86      0.79     42906\n",
      "\n",
      "    accuracy                           0.92    238093\n",
      "   macro avg       0.85      0.90      0.87    238093\n",
      "weighted avg       0.93      0.92      0.92    238093\n",
      "\n"
     ]
    }
   ],
   "source": [
    "print(classification_report(y[train_test_split:], forest_predict[train_test_split:]))"
   ]
  },
  {
   "cell_type": "code",
   "execution_count": null,
   "id": "delayed-billy",
   "metadata": {},
   "outputs": [],
   "source": [
    "with open('isolation_forest.pickle', 'wb') as f:\n",
    "    pickle.dump(forest, f)"
   ]
  }
 ],
 "metadata": {
  "kernelspec": {
   "display_name": "Python 3",
   "language": "python",
   "name": "python3"
  },
  "language_info": {
   "codemirror_mode": {
    "name": "ipython",
    "version": 3
   },
   "file_extension": ".py",
   "mimetype": "text/x-python",
   "name": "python",
   "nbconvert_exporter": "python",
   "pygments_lexer": "ipython3",
   "version": "3.9.2"
  }
 },
 "nbformat": 4,
 "nbformat_minor": 5
}
